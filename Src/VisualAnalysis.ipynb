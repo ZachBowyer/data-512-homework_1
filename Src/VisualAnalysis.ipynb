{
 "cells": [
  {
   "cell_type": "markdown",
   "id": "e1887b8e",
   "metadata": {},
   "source": [
    "# In this notebook, we are conducting basical visual analysis\n",
    "Files that we will be looking at include:  \n",
    "../Data/.json  \n",
    "../Data/.json  \n",
    "../Data/.json  "
   ]
  },
  {
   "cell_type": "markdown",
   "id": "57ccb204",
   "metadata": {},
   "source": [
    "# Imports"
   ]
  },
  {
   "cell_type": "code",
   "execution_count": null,
   "id": "f4215cab",
   "metadata": {},
   "outputs": [],
   "source": []
  },
  {
   "cell_type": "markdown",
   "id": "07acb7bc",
   "metadata": {},
   "source": [
    "# Visualization 1: ..."
   ]
  },
  {
   "cell_type": "code",
   "execution_count": null,
   "id": "bb0d8011",
   "metadata": {},
   "outputs": [],
   "source": []
  },
  {
   "cell_type": "markdown",
   "id": "0baefd7c",
   "metadata": {},
   "source": [
    "# Visualization 2: ..."
   ]
  },
  {
   "cell_type": "code",
   "execution_count": null,
   "id": "18b9da63",
   "metadata": {},
   "outputs": [],
   "source": []
  },
  {
   "cell_type": "markdown",
   "id": "7963f97a",
   "metadata": {},
   "source": [
    "# Visualization 3: ..."
   ]
  },
  {
   "cell_type": "code",
   "execution_count": null,
   "id": "1517dea2",
   "metadata": {},
   "outputs": [],
   "source": []
  }
 ],
 "metadata": {
  "kernelspec": {
   "display_name": "Python 3 (ipykernel)",
   "language": "python",
   "name": "python3"
  },
  "language_info": {
   "codemirror_mode": {
    "name": "ipython",
    "version": 3
   },
   "file_extension": ".py",
   "mimetype": "text/x-python",
   "name": "python",
   "nbconvert_exporter": "python",
   "pygments_lexer": "ipython3",
   "version": "3.9.0"
  }
 },
 "nbformat": 4,
 "nbformat_minor": 5
}
