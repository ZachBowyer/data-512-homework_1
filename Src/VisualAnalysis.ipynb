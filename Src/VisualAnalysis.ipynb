{
 "cells": [
  {
   "cell_type": "markdown",
   "id": "08cc5ec3",
   "metadata": {},
   "source": [
    "# In this notebook, we are conducting basical visual analysis\n",
    "Files that we will be looking at include:  \n",
    "../Data/.json  \n",
    "../Data/.json  \n",
    "../Data/.json  "
   ]
  },
  {
   "cell_type": "markdown",
   "id": "2491ce44",
   "metadata": {},
   "source": [
    "# Imports"
   ]
  },
  {
   "cell_type": "code",
   "execution_count": 3,
   "id": "2c2c12cd",
   "metadata": {},
   "outputs": [],
   "source": [
    "import matplotlib.pyplot as plt\n",
    "import json\n",
    "import os"
   ]
  },
  {
   "cell_type": "markdown",
   "id": "ec9f6368",
   "metadata": {},
   "source": [
    "# Visualization 1: ...\n",
    "Maximum Average and Minimum Average - The first graph should contain time series for the articles that have the highest average monthly page requests and the lowest average monthly page requests for desktop access and mobile access. Your graph should have four lines (max desktop, min desktop, max mobile, min mobile)."
   ]
  },
  {
   "cell_type": "code",
   "execution_count": 6,
   "id": "82382d07",
   "metadata": {},
   "outputs": [],
   "source": [
    "#Get dictionary data\n",
    "data_desktop = open('../Data/academy_monthly_desktop_201501-202309.json')\n",
    "data_desktop = json.load(data_desktop)\n",
    "\n",
    "data_mobile = open('../Data/academy_monthly_mobile_201501-202309.json')\n",
    "data_mobile = json.load(data_mobile)\n",
    " "
   ]
  },
  {
   "cell_type": "markdown",
   "id": "b01703f3",
   "metadata": {},
   "source": [
    "# Visualization 2: ...\n",
    "Top 10 Peak Page Views - The second graph should contain time series for the top 10 article pages by largest (peak) page views over the entire time by access type. You first find the month for each article that contains the highest (peak) page views, and then order the articles by these peak values. Your graph should contain the top 10 for desktop and top 10 for mobile access (20 lines)."
   ]
  },
  {
   "cell_type": "code",
   "execution_count": null,
   "id": "716d5a57",
   "metadata": {},
   "outputs": [],
   "source": []
  },
  {
   "cell_type": "markdown",
   "id": "fad22be0",
   "metadata": {},
   "source": [
    "# Visualization 3: ...\n",
    "Fewest Months of Data - The third graph should show pages that have the fewest months of available data. These will all be relatively short time series and should contain a set of the most recent academy award winners. Your graph should show the 10 articles with the fewest months of data for desktop access and the 10 articles with the fewest months of data for mobile access."
   ]
  },
  {
   "cell_type": "code",
   "execution_count": null,
   "id": "e1bd34d7",
   "metadata": {},
   "outputs": [],
   "source": []
  }
 ],
 "metadata": {
  "kernelspec": {
   "display_name": "Python 3 (ipykernel)",
   "language": "python",
   "name": "python3"
  },
  "language_info": {
   "codemirror_mode": {
    "name": "ipython",
    "version": 3
   },
   "file_extension": ".py",
   "mimetype": "text/x-python",
   "name": "python",
   "nbconvert_exporter": "python",
   "pygments_lexer": "ipython3",
   "version": "3.9.0"
  }
 },
 "nbformat": 4,
 "nbformat_minor": 5
}
